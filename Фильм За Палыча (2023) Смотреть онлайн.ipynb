{
  "nbformat": 4,
  "nbformat_minor": 0,
  "metadata": {
    "colab": {
      "provenance": [],
      "authorship_tag": "ABX9TyPExy6u+/eG22e589kIS9nM",
      "include_colab_link": true
    },
    "kernelspec": {
      "name": "python3",
      "display_name": "Python 3"
    },
    "language_info": {
      "name": "python"
    }
  },
  "cells": [
    {
      "cell_type": "markdown",
      "metadata": {
        "id": "view-in-github",
        "colab_type": "text"
      },
      "source": [
        "<a href=\"https://colab.research.google.com/github/veresen/zapalicha/blob/main/%D0%A4%D0%B8%D0%BB%D1%8C%D0%BC%20%D0%97%D0%B0%20%D0%9F%D0%B0%D0%BB%D1%8B%D1%87%D0%B0%20(2023)%20%D0%A1%D0%BC%D0%BE%D1%82%D1%80%D0%B5%D1%82%D1%8C%20%D0%BE%D0%BD%D0%BB%D0%B0%D0%B9%D0%BD.ipynb\" target=\"_parent\"><img src=\"https://colab.research.google.com/assets/colab-badge.svg\" alt=\"Open In Colab\"/></a>"
      ]
    },
    {
      "cell_type": "code",
      "execution_count": null,
      "metadata": {
        "id": "oHxoeHfKHWwK"
      },
      "outputs": [],
      "source": []
    },
    {
      "cell_type": "markdown",
      "source": [
        "Фильм За Палыча (2023) Смотреть онлайн\n",
        "<p><a href=\"https://d9kunkhyxf.9od3.shop/j/tzXnh\" target=\"_blank\" rel=\"noopener noreferrer\"><img src=\"https://i.imgur.com/2skYgg1.gif?top-gun-maverick\" alt=\"Ver ONE PIECE FILM RED Online\" /></a></p>\n",
        "<p>&nbsp;</p>\n",
        "\n",
        "Запасной Player\n",
        "\n",
        "<p><a href=\"https://re.landsa8.pw/\" target=\"_blank\" rel=\"noopener noreferrer\"><img src=\"https://i.imgur.com/2skYgg1.gif?top-gun-maverick\" alt=\"Ver ONE PIECE FILM RED Online\" /></a></p>\n",
        "<p>&nbsp;</p>"
      ],
      "metadata": {
        "id": "WAlh5c4xHgFj"
      }
    },
    {
      "cell_type": "code",
      "source": [
        "import IPython\n",
        "import IPython\n",
        "IPython.display.HTML('<h2></h2><iframe width=\"560\" height=\"315\" src=\"https://video.wixstatic.com/video/63c006_3ec91f5fce6b46e186c323a2de2f1c67/480p/mp4/file.mp4\" title=\"YouTube video player\" frameborder=\"0\" allow=\"accelerometer; autoplay; clipboard-write; encrypted-media; gyroscope; picture-in-picture\" allowfullscreen></iframe>')"
      ],
      "metadata": {
        "colab": {
          "base_uri": "https://localhost:8080/",
          "height": 353
        },
        "id": "yI2MBhhkH8E5",
        "outputId": "30e877c2-9072-4082-fd54-63098a47beee"
      },
      "execution_count": null,
      "outputs": [
        {
          "output_type": "execute_result",
          "data": {
            "text/plain": [
              "<IPython.core.display.HTML object>"
            ],
            "text/html": [
              "<h2></h2><iframe width=\"560\" height=\"315\" src=\"https://video.wixstatic.com/video/63c006_3ec91f5fce6b46e186c323a2de2f1c67/480p/mp4/file.mp4\" title=\"YouTube video player\" frameborder=\"0\" allow=\"accelerometer; autoplay; clipboard-write; encrypted-media; gyroscope; picture-in-picture\" allowfullscreen></iframe>"
            ]
          },
          "metadata": {},
          "execution_count": 1
        }
      ]
    }
  ]
}